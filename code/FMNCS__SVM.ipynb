{
  "nbformat": 4,
  "nbformat_minor": 0,
  "metadata": {
    "colab": {
      "name": "FMNCS_ SVM.ipynb",
      "provenance": [],
      "collapsed_sections": []
    },
    "kernelspec": {
      "name": "python3",
      "display_name": "Python 3"
    },
    "language_info": {
      "name": "python"
    }
  },
  "cells": [
    {
      "cell_type": "markdown",
      "source": [
        "**FMNCS_ SVM**\n",
        "\n",
        "\n"
      ],
      "metadata": {
        "id": "SYYX0NfWZDCi"
      }
    },
    {
      "cell_type": "code",
      "source": [
        "import pandas as pd\n",
        "import matplotlib.pyplot as plt\n",
        "%matplotlib inline\n",
        "from sklearn.svm import SVC\n",
        "from sklearn.model_selection import train_test_split\n",
        "from sklearn.metrics import accuracy_score,precison_score\n",
        "from sklearn.model_selection import StratifieldKFold"
      ],
      "metadata": {
        "id": "34Hdtfk-ZRRO"
      },
      "execution_count": null,
      "outputs": []
    },
    {
      "cell_type": "code",
      "source": [
        "file.pd.read_csv(\"MNCS.csv\")"
      ],
      "metadata": {
        "id": "w6rcWLUNDmke"
      },
      "execution_count": null,
      "outputs": []
    },
    {
      "cell_type": "code",
      "source": [
        "file.shape"
      ],
      "metadata": {
        "id": "kRn4L1aZDsd5"
      },
      "execution_count": null,
      "outputs": []
    },
    {
      "cell_type": "code",
      "source": [
        "file.head()"
      ],
      "metadata": {
        "id": "8YBOVFC1DuM9"
      },
      "execution_count": null,
      "outputs": []
    },
    {
      "cell_type": "code",
      "source": [
        "file.describe()"
      ],
      "metadata": {
        "id": "y7qrZWaqDwxF"
      },
      "execution_count": null,
      "outputs": []
    },
    {
      "cell_type": "code",
      "source": [
        "print(file['In/Out_Patient').value_counts(),end=\"\\n\\n\") \n",
        "\n",
        "print(file['Sex'].value_counts() ,end =\"\\n\\n\")\n",
        "\n",
        "print(file['Do_Blink'].value_counts() ,end \"\\n\\n\") \n",
        "\n",
        "print(file['Do_ABR'].value_counts(),end \"\\n\\n\") \n",
        "\n",
        "print(file['abnormal'].value_counts(),end=\"\\n\\n\")"
      ],
      "metadata": {
        "id": "GjkmcOkwDzsV"
      },
      "execution_count": null,
      "outputs": []
    },
    {
      "cell_type": "markdown",
      "source": [
        "**preprocessing**"
      ],
      "metadata": {
        "id": "Nt7NN7RdFMsK"
      }
    },
    {
      "cell_type": "code",
      "source": [
        "#dealing with null values\n",
        "\n",
        "file=file.fillna(0)\n",
        "\n",
        "#dropping date column\n",
        "\n",
        "file=file.drop('Date',axis=1)"
      ],
      "metadata": {
        "id": "ltCYp2pQFFyT"
      },
      "execution_count": null,
      "outputs": []
    },
    {
      "cell_type": "code",
      "source": [
        "file.dtypes"
      ],
      "metadata": {
        "id": "lpyLJ4OhXQiv"
      },
      "execution_count": null,
      "outputs": []
    },
    {
      "cell_type": "markdown",
      "source": [
        "**Replacing String with eqivalent integers**"
      ],
      "metadata": {
        "id": "bHZ33MHgNwmq"
      }
    },
    {
      "cell_type": "code",
      "source": [
        " file['In/Out_Patient').replace('in',1,inplace =True)\n",
        "\n",
        " file['In/Out_Patient').replace('out',0,inplace=True) "
      ],
      "metadata": {
        "id": "QKQl1PvjF4cq"
      },
      "execution_count": null,
      "outputs": []
    },
    {
      "cell_type": "markdown",
      "source": [
        "**Changing data types to int**"
      ],
      "metadata": {
        "id": "ovlENR5cOJic"
      }
    },
    {
      "cell_type": "code",
      "source": [
        "file['In/Out_Patient'] = file['In/Out_Patient'].astype('int64') "
      ],
      "metadata": {
        "id": "og_7rsnyOGly"
      },
      "execution_count": null,
      "outputs": []
    },
    {
      "cell_type": "code",
      "source": [
        "file.dtypes"
      ],
      "metadata": {
        "id": "jlBy4ANxOLFi"
      },
      "execution_count": null,
      "outputs": []
    },
    {
      "cell_type": "markdown",
      "source": [
        "**Seperating the features & Target**"
      ],
      "metadata": {
        "id": "lh8bIOCqNeq5"
      }
    },
    {
      "cell_type": "code",
      "source": [
        "x, y = file.drop('abnormal',axis=1), file['abnormal']"
      ],
      "metadata": {
        "id": "2oPxKgvJGgH1"
      },
      "execution_count": null,
      "outputs": []
    },
    {
      "cell_type": "markdown",
      "source": [
        "**stratified kfolding, training the model and evaluating the model**"
      ],
      "metadata": {
        "id": "dr0pg6VKNbg5"
      }
    },
    {
      "cell_type": "code",
      "source": [
        "skf = StratifiedKFold(n_splits=10, shuffle=True, random_state=1)\n",
        "\n",
        "fold_no = 1\n",
        "\n",
        "model = SVC(kernal='linear')\n",
        "\n",
        "accur1 = []\n",
        "\n",
        "precision1 = []\n",
        "\n",
        "for train_index, test_index in skf.split(x, y):\n",
        "\n",
        "    #splitting the data for training and testing\n",
        "\n",
        "    x_train_fold, x_test_fold = x.iloc[train_index], x.iloc[test_index]\n",
        "\n",
        "    y_train_fold, y_test_fold\t= y.iloc[train_index], y .iloc[test_index]\n",
        "\n",
        "    #training the model\n",
        "\n",
        "    model.fit(x_train_fold,y_train_fold)\n",
        "\n",
        "    pred = model.predict(x_test_fold)\n",
        "\n",
        "    #model evaluation\n",
        "\n",
        "    accur = accuracy_score(y_test_fold, pred)\n",
        "\n",
        "    accur1.append(accur)\n",
        "\n",
        "    precision = precision_score(y_test_fold , pred) \n",
        "    \n",
        "    precisionl.append(precision)\n",
        "\n",
        "    print ('For Fold {} the accuracy of SVC  is {}'.format(str(fold_no),accur))\n",
        "\n",
        "    print ('For Fold {} the precision of SVC is {}' format(str(fold_no),precision)) \n",
        "    \n",
        "    print()\n",
        "\n",
        "    fold_no = fold_no + 1\n"
      ],
      "metadata": {
        "id": "TVaTR7mwG8Xf"
      },
      "execution_count": null,
      "outputs": []
    },
    {
      "cell_type": "markdown",
      "source": [
        "**Normalizing dataset with Min Max Normalization**"
      ],
      "metadata": {
        "id": "9ATiGnUxNVmq"
      }
    },
    {
      "cell_type": "code",
      "source": [
        "file_ norm  =  file.copy( )\n",
        "\n",
        "#min max normalization\n",
        "for  column  in  file_ norm.columns:\n",
        "    file_norm[column]  =  (file_norm[column] - file_norm[column].min()) / (file_ norm[column].max()  -  file_norm[column].min())\n",
        "\n",
        "#changing target variable datatype to int\n",
        "file_norm['abnormal'] = file_ norm['abnormal'].astype('int64')\n",
        "\n",
        "file_ norm\n"
      ],
      "metadata": {
        "id": "rQ8K87ewLcTT"
      },
      "execution_count": null,
      "outputs": []
    },
    {
      "cell_type": "markdown",
      "source": [
        "**Seperating the features & Target**"
      ],
      "metadata": {
        "id": "b_CYpAveQUPr"
      }
    },
    {
      "cell_type": "code",
      "source": [
        "x, y = file_norm.drop('abnormal',axis=1), file['abnormal']"
      ],
      "metadata": {
        "id": "p8YwNGBuQlya"
      },
      "execution_count": null,
      "outputs": []
    },
    {
      "cell_type": "markdown",
      "source": [
        "**stratified kfolding, training the model and evaluating the model**"
      ],
      "metadata": {
        "id": "sjZO8B9fQssa"
      }
    },
    {
      "cell_type": "code",
      "source": [
        "skf = StratifiedKFold(n_splits=10, shuffle=True, random_state=1)\n",
        "\n",
        "fold_no = 1\n",
        "\n",
        "model = SVC(kernal='linear') \n",
        "\n",
        "accur2 = []\n",
        "\n",
        "precision2 = []\n",
        "\n",
        "for train_index, test_index in skf.split(x, y):\n",
        "\n",
        "    #splitting the data for training and testing\n",
        "\n",
        "    x_train_fold, x_test_fold = x.iloc[train_index], x.iloc[test_index]\n",
        "\n",
        "    y_train_fold, y_test_fold\t= y.iloc[train_index], y .iloc[test_index]\n",
        "\n",
        "    #training the model\n",
        "\n",
        "    model.fit(x_train_fold,y_train_fold)\n",
        "\n",
        "    pred = model.predict(x_test_fold)\n",
        "\n",
        "    #model evaluation\n",
        "\n",
        "    accur = accuracy_score(y_test_fold, pred)\n",
        "\n",
        "    accur2.append(accur)\n",
        "\n",
        "    precision = precision_score(y_test_fold , pred) \n",
        "    \n",
        "    precision2.append(precision)\n",
        "\n",
        "    print ('For Fold {} the accuracy of SVC is {}'.format(str(fold_no),accur))\n",
        "\n",
        "    print ('For Fold {} the precision of SVC is {}' format(str(fold_no),precision)) \n",
        "    \n",
        "    print()\n",
        "\n",
        "    fold_no = fold_no + 1\n"
      ],
      "metadata": {
        "id": "8vM4ao7sQssb"
      },
      "execution_count": null,
      "outputs": []
    },
    {
      "cell_type": "markdown",
      "source": [
        "**comparing model performance with and without normalization**"
      ],
      "metadata": {
        "id": "rtnvbHE5NHP9"
      }
    },
    {
      "cell_type": "code",
      "source": [
        "print(\"Avg accuracy without normalization:\" ,sum(accur1)/len(accur1))\n",
        "\n",
        "print(\"Avg accuracy with normalization:\",sum(accur2)/len(accur2)) \n",
        "\n",
        "print()\n",
        "\n",
        "print(\"Avg precision without normalization:\",sum(precisionl)/len(precisionl)) \n",
        "\n",
        "print(\"Avg precision with normalization:\",sum(precision2)/len(precision2))"
      ],
      "metadata": {
        "id": "-0xkanqwH3eg"
      },
      "execution_count": null,
      "outputs": []
    },
    {
      "cell_type": "code",
      "source": [
        ""
      ],
      "metadata": {
        "id": "XNNN8gmXM-JC"
      },
      "execution_count": null,
      "outputs": []
    }
  ]
}